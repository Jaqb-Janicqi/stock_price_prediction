{
 "cells": [
  {
   "cell_type": "code",
   "execution_count": 8,
   "metadata": {},
   "outputs": [],
   "source": [
    "import pandas as pd\n",
    "import numpy as np\n",
    "import matplotlib.pyplot as plt\n",
    "import seaborn as sns\n",
    "# disable column wrap\n",
    "pd.set_option('display.expand_frame_repr', False)\n",
    "\n",
    "df = pd.read_csv('model_results.csv')"
   ]
  },
  {
   "cell_type": "code",
   "execution_count": 9,
   "metadata": {},
   "outputs": [
    {
     "data": {
      "text/html": [
       "<div>\n",
       "<style scoped>\n",
       "    .dataframe tbody tr th:only-of-type {\n",
       "        vertical-align: middle;\n",
       "    }\n",
       "\n",
       "    .dataframe tbody tr th {\n",
       "        vertical-align: top;\n",
       "    }\n",
       "\n",
       "    .dataframe thead th {\n",
       "        text-align: right;\n",
       "    }\n",
       "</style>\n",
       "<table border=\"1\" class=\"dataframe\">\n",
       "  <thead>\n",
       "    <tr style=\"text-align: right;\">\n",
       "      <th></th>\n",
       "      <th>model_name</th>\n",
       "      <th>input_size</th>\n",
       "      <th>output_size</th>\n",
       "      <th>hidden_size</th>\n",
       "      <th>num_layers</th>\n",
       "      <th>transform</th>\n",
       "      <th>mse</th>\n",
       "    </tr>\n",
       "  </thead>\n",
       "  <tbody>\n",
       "    <tr>\n",
       "      <th>0</th>\n",
       "      <td>GRU</td>\n",
       "      <td>1</td>\n",
       "      <td>1</td>\n",
       "      <td>128.0</td>\n",
       "      <td>4.0</td>\n",
       "      <td>normalized</td>\n",
       "      <td>0.001685</td>\n",
       "    </tr>\n",
       "    <tr>\n",
       "      <th>1</th>\n",
       "      <td>GRU</td>\n",
       "      <td>1</td>\n",
       "      <td>1</td>\n",
       "      <td>256.0</td>\n",
       "      <td>4.0</td>\n",
       "      <td>normalized</td>\n",
       "      <td>0.001695</td>\n",
       "    </tr>\n",
       "    <tr>\n",
       "      <th>2</th>\n",
       "      <td>GRU</td>\n",
       "      <td>1</td>\n",
       "      <td>1</td>\n",
       "      <td>256.0</td>\n",
       "      <td>8.0</td>\n",
       "      <td>normalized</td>\n",
       "      <td>0.001683</td>\n",
       "    </tr>\n",
       "    <tr>\n",
       "      <th>3</th>\n",
       "      <td>GRU</td>\n",
       "      <td>5</td>\n",
       "      <td>1</td>\n",
       "      <td>128.0</td>\n",
       "      <td>4.0</td>\n",
       "      <td>normalized</td>\n",
       "      <td>0.001677</td>\n",
       "    </tr>\n",
       "    <tr>\n",
       "      <th>4</th>\n",
       "      <td>GRU</td>\n",
       "      <td>5</td>\n",
       "      <td>4</td>\n",
       "      <td>128.0</td>\n",
       "      <td>4.0</td>\n",
       "      <td>normalized</td>\n",
       "      <td>0.001188</td>\n",
       "    </tr>\n",
       "  </tbody>\n",
       "</table>\n",
       "</div>"
      ],
      "text/plain": [
       "  model_name  input_size  output_size  hidden_size  num_layers   transform       mse\n",
       "0        GRU           1            1        128.0         4.0  normalized  0.001685\n",
       "1        GRU           1            1        256.0         4.0  normalized  0.001695\n",
       "2        GRU           1            1        256.0         8.0  normalized  0.001683\n",
       "3        GRU           5            1        128.0         4.0  normalized  0.001677\n",
       "4        GRU           5            4        128.0         4.0  normalized  0.001188"
      ]
     },
     "execution_count": 9,
     "metadata": {},
     "output_type": "execute_result"
    }
   ],
   "source": [
    "df.head()"
   ]
  },
  {
   "cell_type": "code",
   "execution_count": 10,
   "metadata": {},
   "outputs": [
    {
     "name": "stdout",
     "output_type": "stream",
     "text": [
      "   model_name  input_size  output_size  hidden_size  num_layers   transform       mse\n",
      "2         GRU           1            1        256.0         8.0  normalized  0.001683\n",
      "9         GRU           5            1        512.0         8.0  normalized  0.001663\n",
      "10        GRU           5            4        512.0         8.0  normalized  0.001183\n",
      "40       LSTM           1            1        256.0         8.0  stationary  0.000050\n",
      "28        GRU           5            1        128.0         4.0  stationary  0.000051\n",
      "33        GRU           5            4        256.0         8.0  stationary  0.000038\n"
     ]
    }
   ],
   "source": [
    "best_models = df.loc[df.groupby(['transform', 'input_size', 'output_size'])['mse'].idxmin()]\n",
    "print(best_models)"
   ]
  },
  {
   "cell_type": "code",
   "execution_count": null,
   "metadata": {},
   "outputs": [],
   "source": [
    "# rename files\n",
    "# import os\n",
    "\n",
    "\n",
    "# dirs = ['trained_stationary', 'trained_normalized']\n",
    "# for d in dirs:\n",
    "#     for f in os.listdir(d):\n",
    "#         # class_input_hidden_depth_output_junk... -> class_input_output_hidden_depth_transform\n",
    "#         parts = f.split('_')\n",
    "#         if len(parts) == 5:\n",
    "#             parts = [parts[0] + '_' + parts[1], parts[-3], parts[-2], d.split('_')[1]]\n",
    "#             new_name = '_'.join(parts)\n",
    "#             os.rename(os.path.join(d, f), os.path.join(d, new_name))\n",
    "#         else:\n",
    "#             parts = [parts[0], parts[1], parts[-2], parts[2], parts[-3], d.split('_')[1]]\n",
    "#             new_name = '_'.join(parts)\n",
    "#             os.rename(os.path.join(d, f), os.path.join(d, new_name))\n"
   ]
  },
  {
   "cell_type": "code",
   "execution_count": null,
   "metadata": {},
   "outputs": [],
   "source": [
    "# # pivot table\n",
    "# pivot = best_models.pivot_table(index=['model_name', 'input_size', 'output_size'], columns='model', values='mse')"
   ]
  },
  {
   "cell_type": "code",
   "execution_count": null,
   "metadata": {},
   "outputs": [],
   "source": [
    "# depth and width against mse\n"
   ]
  }
 ],
 "metadata": {
  "kernelspec": {
   "display_name": "adm",
   "language": "python",
   "name": "python3"
  },
  "language_info": {
   "codemirror_mode": {
    "name": "ipython",
    "version": 3
   },
   "file_extension": ".py",
   "mimetype": "text/x-python",
   "name": "python",
   "nbconvert_exporter": "python",
   "pygments_lexer": "ipython3",
   "version": "3.12.7"
  }
 },
 "nbformat": 4,
 "nbformat_minor": 2
}
